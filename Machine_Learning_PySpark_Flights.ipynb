{
  "nbformat": 4,
  "nbformat_minor": 0,
  "metadata": {
    "colab": {
      "name": "Machine_Learning_PySpark_Flights.ipynb",
      "provenance": [],
      "collapsed_sections": [],
      "include_colab_link": true
    },
    "kernelspec": {
      "name": "python3",
      "display_name": "Python 3"
    },
    "language_info": {
      "name": "python"
    }
  },
  "cells": [
    {
      "cell_type": "markdown",
      "metadata": {
        "id": "view-in-github",
        "colab_type": "text"
      },
      "source": [
        "<a href=\"https://colab.research.google.com/github/Himagination/PySpark_Projects/blob/main/Machine_Learning_PySpark_Flights.ipynb\" target=\"_parent\"><img src=\"https://colab.research.google.com/assets/colab-badge.svg\" alt=\"Open In Colab\"/></a>"
      ]
    },
    {
      "cell_type": "markdown",
      "metadata": {
        "id": "CK3x8GoEdl3j"
      },
      "source": [
        "## Setting PySpark Environment"
      ]
    },
    {
      "cell_type": "code",
      "metadata": {
        "id": "GJqGncoPccLx"
      },
      "source": [
        "!apt-get install openjdk-8-jdk-headless -qq > /dev/null\n",
        "!wget -q https://archive.apache.org/dist/spark/spark-3.0.0/spark-3.0.0-bin-hadoop3.2.tgz\n",
        "!tar xf spark-3.0.0-bin-hadoop3.2.tgz\n",
        "import os\n",
        "os.environ[\"JAVA_HOME\"] = \"/usr/lib/jvm/java-8-openjdk-amd64\"\n",
        "os.environ[\"SPARK_HOME\"] = \"/content/spark-3.0.0-bin-hadoop3.2\"\n",
        "!pip install -q findspark\n",
        "import findspark\n",
        "findspark.init()\n",
        "from pyspark.sql import SparkSession\n",
        "spark = SparkSession.builder\\\n",
        "        .master(\"local\")\\\n",
        "        .appName(\"Colab\")\\\n",
        "        .config('spark.ui.port', '4050')\\\n",
        "        .getOrCreate()"
      ],
      "execution_count": 1,
      "outputs": []
    },
    {
      "cell_type": "markdown",
      "metadata": {
        "id": "gtrXFMrMdiS7"
      },
      "source": [
        "# Machine Learning with PySpark\n",
        "\n",
        "## Objective\n",
        "\n",
        "1. Build a Classifier Model on a flight dataset to determine whether a flight will be delayed or not.\n",
        "2. Build a Regression Model to predict Duration of flight."
      ]
    },
    {
      "cell_type": "markdown",
      "metadata": {
        "id": "wEElNFn5i0kW"
      },
      "source": [
        "## The Data"
      ]
    },
    {
      "cell_type": "markdown",
      "metadata": {
        "id": "NhjVMeIlmPMK"
      },
      "source": [
        "*  **Download Data From Source**\n",
        "\n",
        "*  ***Flights Data Set***\n",
        "\n",
        "Notes on CSV format:\n",
        "\n",
        "*  Fields are separated by a comma (this is the default separator) and\n",
        "missing data are denoted by the string 'NA'.\n",
        "*  Data dictionary:\n",
        "\n",
        "1.  mon — month (integer between 1 and 12)\n",
        "2.  dom — day of month (integer between 1 and 31)\n",
        "3.  dow — day of week (integer; 1 = Monday and 7 = Sunday)\n",
        "4.  org — origin airport (IATA code)\n",
        "5.  mile — distance (miles)\n",
        "6.  carrier — carrier (IATA code)\n",
        "7.  depart — departure time (decimal hour)\n",
        "8.  duration — expected duration (minutes)\n",
        "9.  delay — delay (minutes)"
      ]
    },
    {
      "cell_type": "code",
      "metadata": {
        "colab": {
          "base_uri": "https://localhost:8080/"
        },
        "id": "2hoQOi7ti175",
        "outputId": "331eec62-a090-49e8-9bc3-0d1c38065c98"
      },
      "source": [
        "!wget https://assets.datacamp.com/production/repositories/3918/datasets/e1c1a03124fb2199743429e9b7927df18da3eacf/flights-larger.csv"
      ],
      "execution_count": 2,
      "outputs": [
        {
          "output_type": "stream",
          "name": "stdout",
          "text": [
            "--2021-10-21 08:21:24--  https://assets.datacamp.com/production/repositories/3918/datasets/e1c1a03124fb2199743429e9b7927df18da3eacf/flights-larger.csv\n",
            "Resolving assets.datacamp.com (assets.datacamp.com)... 104.18.17.147, 104.18.16.147\n",
            "Connecting to assets.datacamp.com (assets.datacamp.com)|104.18.17.147|:443... connected.\n",
            "HTTP request sent, awaiting response... 200 OK\n",
            "Length: 9660229 (9.2M) [text/csv]\n",
            "Saving to: ‘flights-larger.csv.1’\n",
            "\n",
            "flights-larger.csv. 100%[===================>]   9.21M  --.-KB/s    in 0.1s    \n",
            "\n",
            "2021-10-21 08:21:25 (77.2 MB/s) - ‘flights-larger.csv.1’ saved [9660229/9660229]\n",
            "\n"
          ]
        }
      ]
    },
    {
      "cell_type": "markdown",
      "metadata": {
        "id": "6RI3RN0gmUV7"
      },
      "source": [
        "* Read Data as CSV"
      ]
    },
    {
      "cell_type": "code",
      "metadata": {
        "colab": {
          "base_uri": "https://localhost:8080/"
        },
        "id": "oKlDsjoAndVj",
        "outputId": "101eb580-62d7-49e3-8b2f-d9fab919c01f"
      },
      "source": [
        "# Read data from CSV file\n",
        "flights = spark.read.csv('flights-larger.csv',\n",
        "                         sep=',',\n",
        "                         header=True,\n",
        "                         inferSchema=True,\n",
        "                         nullValue='NA')\n",
        "# Get number of records\n",
        "print(\"The data contain %d records.\" % flights.count())\n",
        "# View the first five records\n",
        "flights.show(5)\n",
        "# Check column data types\n",
        "flights.printSchema()"
      ],
      "execution_count": 3,
      "outputs": [
        {
          "output_type": "stream",
          "name": "stdout",
          "text": [
            "The data contain 275000 records.\n",
            "+---+---+---+-------+------+---+----+------+--------+-----+\n",
            "|mon|dom|dow|carrier|flight|org|mile|depart|duration|delay|\n",
            "+---+---+---+-------+------+---+----+------+--------+-----+\n",
            "| 10| 10|  1|     OO|  5836|ORD| 157|  8.18|      51|   27|\n",
            "|  1|  4|  1|     OO|  5866|ORD| 466|  15.5|     102| null|\n",
            "| 11| 22|  1|     OO|  6016|ORD| 738|  7.17|     127|  -19|\n",
            "|  2| 14|  5|     B6|   199|JFK|2248| 21.17|     365|   60|\n",
            "|  5| 25|  3|     WN|  1675|SJC| 386| 12.92|      85|   22|\n",
            "+---+---+---+-------+------+---+----+------+--------+-----+\n",
            "only showing top 5 rows\n",
            "\n",
            "root\n",
            " |-- mon: integer (nullable = true)\n",
            " |-- dom: integer (nullable = true)\n",
            " |-- dow: integer (nullable = true)\n",
            " |-- carrier: string (nullable = true)\n",
            " |-- flight: integer (nullable = true)\n",
            " |-- org: string (nullable = true)\n",
            " |-- mile: integer (nullable = true)\n",
            " |-- depart: double (nullable = true)\n",
            " |-- duration: integer (nullable = true)\n",
            " |-- delay: integer (nullable = true)\n",
            "\n"
          ]
        }
      ]
    },
    {
      "cell_type": "markdown",
      "metadata": {
        "id": "twefsfF4tLbR"
      },
      "source": [
        "## Data Preparation\n",
        "1. Remove Columns and Rows\n",
        "- Removing an uninformative column and\n",
        "- Removing rows which do not have information about whether or not a flight was delayed.\n",
        "\n",
        "2.  Column Manipulation.\n",
        "-  Convert the units of distance, replacing the mile column with a kmcolumn; and\n",
        "-  Create a Boolean column indicating whether or not a flight was delayed.(The Federal Aviation Administration (FAA) considers a flight to be \"delayed\" when it arrives 15 minutes or more after its scheduled time.)\n",
        "\n",
        "3.  Categorical Columns\n",
        "-  In the flights data there are two columns, carrier and org, which hold categorical data. Transform those columns into indexed numerical values.\n",
        "\n",
        "4.  Assembling Columns\n",
        "-  Consolidate all of the predictor columns into a single column."
      ]
    },
    {
      "cell_type": "code",
      "metadata": {
        "colab": {
          "base_uri": "https://localhost:8080/"
        },
        "id": "eepR48gmqILK",
        "outputId": "f90f25aa-b077-4e2b-ee56-72008e21c6e0"
      },
      "source": [
        "# Remove the 'flight' column\n",
        "flights_drop_column = flights.drop('flight')\n",
        "# Number of records with missing 'delay' values\n",
        "flights_drop_column.filter('delay IS NULL').count()\n",
        "# Remove records with missing 'delay' values\n",
        "flights_valid_delay = flights_drop_column.filter('delay IS NOT NULL')\n",
        "# Remove records with missing values in any column and get the number of remaining rows\n",
        "flights_none_missing = flights_valid_delay.dropna()\n",
        "print(flights_none_missing.count())"
      ],
      "execution_count": 4,
      "outputs": [
        {
          "output_type": "stream",
          "name": "stdout",
          "text": [
            "258289\n"
          ]
        }
      ]
    },
    {
      "cell_type": "code",
      "metadata": {
        "colab": {
          "base_uri": "https://localhost:8080/"
        },
        "id": "TjXPIu58upvS",
        "outputId": "8e0e9021-83f5-4a98-cca3-48c7786b8695"
      },
      "source": [
        "# Import the required function\n",
        "from pyspark.sql.functions import round\n",
        "# Convert 'mile' to 'km' and drop 'mile' column\n",
        "flights_km = flights_none_missing.withColumn('km', round(flights_none_missing.mile * 1.60934, 0)).drop('mile')                  \n",
        "# Create 'label' column indicating whether flight delayed (1) or not (0)\n",
        "flights_km = flights_km.withColumn('label', (flights_km.delay >= 15).cast('integer'))\n",
        "# Check first five records\n",
        "flights_km.show(5)"
      ],
      "execution_count": 5,
      "outputs": [
        {
          "output_type": "stream",
          "name": "stdout",
          "text": [
            "+---+---+---+-------+---+------+--------+-----+------+-----+\n",
            "|mon|dom|dow|carrier|org|depart|duration|delay|    km|label|\n",
            "+---+---+---+-------+---+------+--------+-----+------+-----+\n",
            "| 10| 10|  1|     OO|ORD|  8.18|      51|   27| 253.0|    1|\n",
            "| 11| 22|  1|     OO|ORD|  7.17|     127|  -19|1188.0|    0|\n",
            "|  2| 14|  5|     B6|JFK| 21.17|     365|   60|3618.0|    1|\n",
            "|  5| 25|  3|     WN|SJC| 12.92|      85|   22| 621.0|    1|\n",
            "|  3| 28|  1|     B6|LGA| 13.33|     182|   70|1732.0|    1|\n",
            "+---+---+---+-------+---+------+--------+-----+------+-----+\n",
            "only showing top 5 rows\n",
            "\n"
          ]
        }
      ]
    },
    {
      "cell_type": "code",
      "metadata": {
        "colab": {
          "base_uri": "https://localhost:8080/"
        },
        "id": "LvRFfJx0wR4A",
        "outputId": "4ecd2a42-f649-4aab-e030-0fa770162edb"
      },
      "source": [
        "from pyspark.ml.feature import StringIndexer\n",
        "\n",
        "# Create an indexer\n",
        "indexer = StringIndexer(inputCol='carrier', outputCol='carrier_idx')\n",
        "\n",
        "# Indexer identifies categories in the data\n",
        "indexer_model = indexer.fit(flights_km)\n",
        "\n",
        "# Indexer creates a new column with numeric index values\n",
        "flights_indexed = indexer_model.transform(flights_km)\n",
        "\n",
        "# Repeat the process for the other categorical feature\n",
        "flights_indexed = StringIndexer(inputCol='org', outputCol='org_idx').fit(flights_indexed).transform(flights_indexed)\n",
        "flights_indexed.show(5)                              "
      ],
      "execution_count": 6,
      "outputs": [
        {
          "output_type": "stream",
          "name": "stdout",
          "text": [
            "+---+---+---+-------+---+------+--------+-----+------+-----+-----------+-------+\n",
            "|mon|dom|dow|carrier|org|depart|duration|delay|    km|label|carrier_idx|org_idx|\n",
            "+---+---+---+-------+---+------+--------+-----+------+-----+-----------+-------+\n",
            "| 10| 10|  1|     OO|ORD|  8.18|      51|   27| 253.0|    1|        2.0|    0.0|\n",
            "| 11| 22|  1|     OO|ORD|  7.17|     127|  -19|1188.0|    0|        2.0|    0.0|\n",
            "|  2| 14|  5|     B6|JFK| 21.17|     365|   60|3618.0|    1|        4.0|    2.0|\n",
            "|  5| 25|  3|     WN|SJC| 12.92|      85|   22| 621.0|    1|        3.0|    5.0|\n",
            "|  3| 28|  1|     B6|LGA| 13.33|     182|   70|1732.0|    1|        4.0|    3.0|\n",
            "+---+---+---+-------+---+------+--------+-----+------+-----+-----------+-------+\n",
            "only showing top 5 rows\n",
            "\n"
          ]
        }
      ]
    },
    {
      "cell_type": "code",
      "metadata": {
        "colab": {
          "base_uri": "https://localhost:8080/"
        },
        "id": "r60wdBfIx2kP",
        "outputId": "823a9cb7-93e3-4034-ec20-497e92eede0c"
      },
      "source": [
        "# Import the necessary class\n",
        "from pyspark.ml.feature import VectorAssembler\n",
        "\n",
        "# Create an assembler object\n",
        "assembler = VectorAssembler(inputCols=[\n",
        "    'mon', 'dom', 'dow', 'carrier_idx', 'org_idx', 'km', 'depart', 'duration'\n",
        "], outputCol='features')\n",
        "\n",
        "# Consolidate predictor columns\n",
        "flights_assembled = assembler.transform(flights_indexed)\n",
        "\n",
        "# Check the resulting column\n",
        "flights_assembled.select('features', 'delay').show(5, truncate=False)"
      ],
      "execution_count": 7,
      "outputs": [
        {
          "output_type": "stream",
          "name": "stdout",
          "text": [
            "+-----------------------------------------+-----+\n",
            "|features                                 |delay|\n",
            "+-----------------------------------------+-----+\n",
            "|[10.0,10.0,1.0,2.0,0.0,253.0,8.18,51.0]  |27   |\n",
            "|[11.0,22.0,1.0,2.0,0.0,1188.0,7.17,127.0]|-19  |\n",
            "|[2.0,14.0,5.0,4.0,2.0,3618.0,21.17,365.0]|60   |\n",
            "|[5.0,25.0,3.0,3.0,5.0,621.0,12.92,85.0]  |22   |\n",
            "|[3.0,28.0,1.0,4.0,3.0,1732.0,13.33,182.0]|70   |\n",
            "+-----------------------------------------+-----+\n",
            "only showing top 5 rows\n",
            "\n"
          ]
        }
      ]
    },
    {
      "cell_type": "markdown",
      "metadata": {
        "id": "wld_iMeC2lsP"
      },
      "source": [
        "## Decision Tree Model\n",
        "1. Train/Test Split\n",
        "- training data (used to train the model) and\n",
        "- testing data (used to test the model).\n",
        "\n",
        "2. Build a Decision Tree Model\n",
        "3. Evaluate the Decision Tree\n",
        "- A confusion matrix gives a useful breakdown of predictions versus known values. It has four cells which represent the counts of:\n",
        "\n",
        "- True Negatives (TN) — model predicts negative outcome & known outcome is negative\n",
        "- True Positives (TP) — model predicts positive outcome & known outcome is positive\n",
        "- False Negatives (FN) — model predicts negative outcome but known outcome is positive\n",
        "- False Positives (FP) — model predicts positive outcome but known outcome is negative.\n"
      ]
    },
    {
      "cell_type": "code",
      "metadata": {
        "colab": {
          "base_uri": "https://localhost:8080/"
        },
        "id": "qufEuEzBzK4K",
        "outputId": "6c9c8a55-21a2-4ef3-a90f-0a59db691da8"
      },
      "source": [
        "# Split into training and testing sets in a 80:20 ratio\n",
        "flights_train, flights_test = flights_assembled.randomSplit([0.8, 0.2], seed=17)\n",
        "\n",
        "# Check that training set has around 80% of records\n",
        "training_ratio = flights_train.count() / flights_assembled.count()\n",
        "print(training_ratio)"
      ],
      "execution_count": 8,
      "outputs": [
        {
          "output_type": "stream",
          "name": "stdout",
          "text": [
            "0.8000998881098305\n"
          ]
        }
      ]
    },
    {
      "cell_type": "code",
      "metadata": {
        "colab": {
          "base_uri": "https://localhost:8080/"
        },
        "id": "_2CiCutI3Dqv",
        "outputId": "a635f4bd-5c81-4eae-e17b-3c314c096651"
      },
      "source": [
        "# Import the Decision Tree Classifier class\n",
        "from pyspark.ml.classification import DecisionTreeClassifier\n",
        "\n",
        "# Create a classifier object and fit to the training data\n",
        "tree = DecisionTreeClassifier()\n",
        "tree_model = tree.fit(flights_train)\n",
        "\n",
        "# Create predictions for the testing data and take a look at the predictions\n",
        "prediction = tree_model.transform(flights_test)\n",
        "prediction.select('label', 'prediction', 'probability').show(5, False)"
      ],
      "execution_count": 9,
      "outputs": [
        {
          "output_type": "stream",
          "name": "stdout",
          "text": [
            "+-----+----------+----------------------------------------+\n",
            "|label|prediction|probability                             |\n",
            "+-----+----------+----------------------------------------+\n",
            "|1    |0.0       |[0.6239942321557318,0.3760057678442682] |\n",
            "|0    |0.0       |[0.6239942321557318,0.3760057678442682] |\n",
            "|1    |1.0       |[0.3181704573856536,0.6818295426143464] |\n",
            "|0    |1.0       |[0.42484634010057737,0.5751536598994226]|\n",
            "|1    |1.0       |[0.42484634010057737,0.5751536598994226]|\n",
            "+-----+----------+----------------------------------------+\n",
            "only showing top 5 rows\n",
            "\n"
          ]
        }
      ]
    },
    {
      "cell_type": "code",
      "metadata": {
        "colab": {
          "base_uri": "https://localhost:8080/"
        },
        "id": "2dS0eg333pJ_",
        "outputId": "2383a38c-5622-494a-9bb7-5d67c6c68db4"
      },
      "source": [
        "# Create a confusion matrix\n",
        "prediction.groupBy('label', 'prediction').count().show()\n",
        "\n",
        "# Calculate the elements of the confusion matrix\n",
        "TN = prediction.filter('prediction = 0 AND label = prediction').count()\n",
        "TP = prediction.filter('prediction = 1 AND label = prediction').count()\n",
        "FN = prediction.filter('prediction = 0 AND label != prediction').count()\n",
        "FP = prediction.filter('prediction = 1 AND label != prediction').count()\n",
        "\n",
        "# Accuracy measures the proportion of correct predictions\n",
        "accuracy = (TN + TP) / (TN + TP + FN + FP)\n",
        "print(accuracy)"
      ],
      "execution_count": 10,
      "outputs": [
        {
          "output_type": "stream",
          "name": "stdout",
          "text": [
            "+-----+----------+-----+\n",
            "|label|prediction|count|\n",
            "+-----+----------+-----+\n",
            "|    1|       0.0| 9812|\n",
            "|    0|       0.0|16479|\n",
            "|    1|       1.0|16475|\n",
            "|    0|       1.0| 8866|\n",
            "+-----+----------+-----+\n",
            "\n",
            "0.6382475983885962\n"
          ]
        }
      ]
    },
    {
      "cell_type": "markdown",
      "metadata": {
        "id": "zBFG0ATN5z2l"
      },
      "source": [
        "## Logistic Regression Model"
      ]
    },
    {
      "cell_type": "code",
      "metadata": {
        "colab": {
          "base_uri": "https://localhost:8080/"
        },
        "id": "k2WecHn543d9",
        "outputId": "57c44610-0333-4029-8b06-b3b3589fadea"
      },
      "source": [
        "# Import the logistic regression class\n",
        "from pyspark.ml.classification import LogisticRegression\n",
        "\n",
        "# Create a classifier object and train on training data\n",
        "logistic = LogisticRegression().fit(flights_train)\n",
        "\n",
        "# Create predictions for the testing data and show confusion matrix\n",
        "prediction = logistic.transform(flights_test)\n",
        "prediction.groupBy('label', 'prediction').count().show()"
      ],
      "execution_count": 11,
      "outputs": [
        {
          "output_type": "stream",
          "name": "stdout",
          "text": [
            "+-----+----------+-----+\n",
            "|label|prediction|count|\n",
            "+-----+----------+-----+\n",
            "|    1|       0.0| 9498|\n",
            "|    0|       0.0|14744|\n",
            "|    1|       1.0|16789|\n",
            "|    0|       1.0|10601|\n",
            "+-----+----------+-----+\n",
            "\n"
          ]
        }
      ]
    },
    {
      "cell_type": "code",
      "metadata": {
        "colab": {
          "base_uri": "https://localhost:8080/"
        },
        "id": "YfTi34Hs6l8J",
        "outputId": "95aa8dd7-50fe-4af0-aeb4-1b781968991a"
      },
      "source": [
        "# Calculate the elements of the confusion matrix\n",
        "TN = prediction.filter('prediction = 0 AND label = prediction').count()\n",
        "TP = prediction.filter('prediction = 1 AND label = prediction').count()\n",
        "FN = prediction.filter('prediction = 0 AND label != prediction').count()\n",
        "FP = prediction.filter('prediction = 1 AND label != prediction').count()\n",
        "\n",
        "# Accuracy measures the proportion of correct predictions\n",
        "accuracy = (TN + TP) / (TN + TP + FN + FP)\n",
        "print(accuracy)"
      ],
      "execution_count": 12,
      "outputs": [
        {
          "output_type": "stream",
          "name": "stdout",
          "text": [
            "0.6107259064146265\n"
          ]
        }
      ]
    },
    {
      "cell_type": "code",
      "metadata": {
        "colab": {
          "base_uri": "https://localhost:8080/"
        },
        "id": "SouErnTF7SGn",
        "outputId": "90349b8c-efaf-4f2f-8a51-f45cde78841a"
      },
      "source": [
        "from pyspark.ml.evaluation import MulticlassClassificationEvaluator, BinaryClassificationEvaluator\n",
        "\n",
        "# Calculate precision and recall\n",
        "precision = TP / (TP + FP)\n",
        "recall = TP / (TP + FN)\n",
        "print('precision = {:.2f}\\nrecall    = {:.2f}'.format(precision, recall))\n",
        "\n",
        "# Find weighted precision\n",
        "multi_evaluator = MulticlassClassificationEvaluator()\n",
        "weighted_precision = multi_evaluator.evaluate(prediction, {multi_evaluator.metricName: \"weightedPrecision\"})\n",
        "\n",
        "# Find AUC\n",
        "binary_evaluator = BinaryClassificationEvaluator()\n",
        "auc = binary_evaluator.evaluate(prediction, {multi_evaluator.metricName: \"areaUnderROC\"})"
      ],
      "execution_count": 13,
      "outputs": [
        {
          "output_type": "stream",
          "name": "stdout",
          "text": [
            "precision = 0.61\n",
            "recall    = 0.64\n"
          ]
        }
      ]
    },
    {
      "cell_type": "markdown",
      "metadata": {
        "id": "VH7x-6BtdYVw"
      },
      "source": [
        "## Regression\n",
        "\n",
        "### Encoding Flight Origin\n",
        "1. The org column in the flights data is a categorical variable giving the airport from which a flight departs.\n",
        "\n",
        "- ORD — O'Hare International Airport (Chicago)\n",
        "- SFO — San Francisco International Airport\n",
        "- JFK — John F Kennedy International Airport (New York)\n",
        "- LGA — La Guardia Airport (New York)\n",
        "- SMF — Sacramento\n",
        "- SJC — San Jose\n",
        "- TUS — Tucson International Airport\n",
        "- OGG — Kahului (Hawaii)\n"
      ]
    },
    {
      "cell_type": "code",
      "metadata": {
        "id": "NCzQ1Gfs7dLN",
        "outputId": "b3f6d986-f818-4680-970d-ab62b1061a9d",
        "colab": {
          "base_uri": "https://localhost:8080/"
        }
      },
      "source": [
        "# Import the one hot encoder class\n",
        "from pyspark.ml.feature import OneHotEncoder\n",
        "\n",
        "# Create an instance of the one hot encoder\n",
        "onehot = OneHotEncoder(inputCols=['org_idx'], outputCols=['org_dummy'])\n",
        "\n",
        "# Apply the one hot encoder to the flights data\n",
        "onehot = onehot.fit(flights_indexed)\n",
        "flights_onehot = onehot.transform(flights_indexed)\n",
        "\n",
        "# Check the results\n",
        "flights_onehot.select('org', 'org_idx', 'org_dummy').distinct().sort('org_idx').show()"
      ],
      "execution_count": 14,
      "outputs": [
        {
          "output_type": "stream",
          "name": "stdout",
          "text": [
            "+---+-------+-------------+\n",
            "|org|org_idx|    org_dummy|\n",
            "+---+-------+-------------+\n",
            "|ORD|    0.0|(7,[0],[1.0])|\n",
            "|SFO|    1.0|(7,[1],[1.0])|\n",
            "|JFK|    2.0|(7,[2],[1.0])|\n",
            "|LGA|    3.0|(7,[3],[1.0])|\n",
            "|SMF|    4.0|(7,[4],[1.0])|\n",
            "|SJC|    5.0|(7,[5],[1.0])|\n",
            "|TUS|    6.0|(7,[6],[1.0])|\n",
            "|OGG|    7.0|    (7,[],[])|\n",
            "+---+-------+-------------+\n",
            "\n"
          ]
        }
      ]
    },
    {
      "cell_type": "markdown",
      "metadata": {
        "id": "VFLM6X0v5TNV"
      },
      "source": [
        "### Encoding Departure Day of Week(DOW)"
      ]
    },
    {
      "cell_type": "code",
      "metadata": {
        "id": "0tB-snQT5Thn"
      },
      "source": [
        "# Create String Indexer\n",
        "flights_onehot = StringIndexer(inputCol='dow', outputCol='dow_idx').fit(flights_onehot).transform(flights_onehot)\n",
        "# Create One Hot Encoding\n",
        "flights_onehot = OneHotEncoder(inputCols=['dow_idx'], outputCols=['dow_dummy']).fit(flights_onehot).transform(flights_onehot)"
      ],
      "execution_count": 15,
      "outputs": []
    },
    {
      "cell_type": "markdown",
      "metadata": {
        "id": "UFgPysxi6tSY"
      },
      "source": [
        "### Encoding Departure Month"
      ]
    },
    {
      "cell_type": "code",
      "metadata": {
        "id": "ud8Rl6Fd6uIP"
      },
      "source": [
        "# Create String Indexer\n",
        "flights_onehot = StringIndexer(inputCol='mon', outputCol='mon_idx').fit(flights_onehot).transform(flights_onehot)\n",
        "# Create One Hot Encoding\n",
        "flights_onehot = OneHotEncoder(inputCols=['mon_idx'], outputCols=['mon_dummy']).fit(flights_onehot).transform(flights_onehot)"
      ],
      "execution_count": 16,
      "outputs": []
    },
    {
      "cell_type": "markdown",
      "metadata": {
        "id": "7fgBQlEptql2"
      },
      "source": [
        "### Bucketing"
      ]
    },
    {
      "cell_type": "code",
      "metadata": {
        "id": "vueFe7yntti1",
        "outputId": "3193107e-3507-4c4e-c779-80617c1b25fb",
        "colab": {
          "base_uri": "https://localhost:8080/"
        }
      },
      "source": [
        "from pyspark.ml.feature import Bucketizer\n",
        "\n",
        "# Create buckets at 3 hour intervals through the day\n",
        "buckets = Bucketizer(splits=[0, 3, 6, 9, 12, 15, 18, 21, 24], inputCol='depart', outputCol='depart_bucket')\n",
        "\n",
        "# Bucket the departure times\n",
        "bucketed = buckets.transform(flights_onehot)\n",
        "bucketed.select('depart', 'depart_bucket').show(5)\n",
        "\n",
        "# Create a one-hot encoder\n",
        "onehot = OneHotEncoder(inputCols=['depart_bucket'], outputCols=['depart_dummy'])\n",
        "\n",
        "# One-hot encode the bucketed departure times\n",
        "flights_onehot = onehot.fit(bucketed).transform(bucketed)\n",
        "flights_onehot.select('depart', 'depart_bucket', 'depart_dummy').show(5)"
      ],
      "execution_count": 17,
      "outputs": [
        {
          "output_type": "stream",
          "name": "stdout",
          "text": [
            "+------+-------------+\n",
            "|depart|depart_bucket|\n",
            "+------+-------------+\n",
            "|  8.18|          2.0|\n",
            "|  7.17|          2.0|\n",
            "| 21.17|          7.0|\n",
            "| 12.92|          4.0|\n",
            "| 13.33|          4.0|\n",
            "+------+-------------+\n",
            "only showing top 5 rows\n",
            "\n",
            "+------+-------------+-------------+\n",
            "|depart|depart_bucket| depart_dummy|\n",
            "+------+-------------+-------------+\n",
            "|  8.18|          2.0|(7,[2],[1.0])|\n",
            "|  7.17|          2.0|(7,[2],[1.0])|\n",
            "| 21.17|          7.0|    (7,[],[])|\n",
            "| 12.92|          4.0|(7,[4],[1.0])|\n",
            "| 13.33|          4.0|(7,[4],[1.0])|\n",
            "+------+-------------+-------------+\n",
            "only showing top 5 rows\n",
            "\n"
          ]
        }
      ]
    },
    {
      "cell_type": "markdown",
      "metadata": {
        "id": "_3iJidbE2IzL"
      },
      "source": [
        "### Create an Assembly of Features"
      ]
    },
    {
      "cell_type": "code",
      "metadata": {
        "id": "qkfog5bzpwPQ"
      },
      "source": [
        "# Create an assembler object\n",
        "assembler = VectorAssembler(inputCols=[\n",
        "    'km', 'org_dummy', 'depart_dummy', 'dow_dummy', 'mon_dummy'\n",
        "], outputCol='features')\n",
        "\n",
        "# Consolidate predictor columns\n",
        "flights_assembled = assembler.transform(flights_onehot)"
      ],
      "execution_count": 18,
      "outputs": []
    },
    {
      "cell_type": "markdown",
      "metadata": {
        "id": "lhnxuNOuhBUh"
      },
      "source": [
        "### Build a Regression Model to predict flight duration."
      ]
    },
    {
      "cell_type": "code",
      "metadata": {
        "id": "AF3Y2Avaefw7",
        "outputId": "e4fb9212-390e-4684-8856-88aa752d3a64",
        "colab": {
          "base_uri": "https://localhost:8080/"
        }
      },
      "source": [
        "# Split into training and testing sets in a 80:20 ratio\n",
        "flights_train, flights_test = flights_assembled.randomSplit([0.8, 0.2], seed=17)\n",
        "flights_train.show(5)"
      ],
      "execution_count": 19,
      "outputs": [
        {
          "output_type": "stream",
          "name": "stdout",
          "text": [
            "+---+---+---+-------+---+------+--------+-----+------+-----+-----------+-------+-------------+-------+-------------+-------+--------------+-------------+-------------+--------------------+\n",
            "|mon|dom|dow|carrier|org|depart|duration|delay|    km|label|carrier_idx|org_idx|    org_dummy|dow_idx|    dow_dummy|mon_idx|     mon_dummy|depart_bucket| depart_dummy|            features|\n",
            "+---+---+---+-------+---+------+--------+-----+------+-----+-----------+-------+-------------+-------+-------------+-------+--------------+-------------+-------------+--------------------+\n",
            "|  0|  1|  2|     AA|JFK|  6.58|     230|   50|2570.0|    1|        1.0|    2.0|(7,[2],[1.0])|    3.0|(6,[3],[1.0])|    2.0|(11,[2],[1.0])|          2.0|(7,[2],[1.0])|(32,[0,3,10,18,23...|\n",
            "|  0|  1|  2|     AA|JFK|   7.0|     385|  -16|4162.0|    0|        1.0|    2.0|(7,[2],[1.0])|    3.0|(6,[3],[1.0])|    2.0|(11,[2],[1.0])|          2.0|(7,[2],[1.0])|(32,[0,3,10,18,23...|\n",
            "|  0|  1|  2|     AA|JFK|  7.17|     230|   19|2612.0|    1|        1.0|    2.0|(7,[2],[1.0])|    3.0|(6,[3],[1.0])|    2.0|(11,[2],[1.0])|          2.0|(7,[2],[1.0])|(32,[0,3,10,18,23...|\n",
            "|  0|  1|  2|     AA|JFK|   7.5|     380|  -23|3983.0|    0|        1.0|    2.0|(7,[2],[1.0])|    3.0|(6,[3],[1.0])|    2.0|(11,[2],[1.0])|          2.0|(7,[2],[1.0])|(32,[0,3,10,18,23...|\n",
            "|  0|  1|  2|     AA|JFK|  8.58|     170|   17|1191.0|    1|        1.0|    2.0|(7,[2],[1.0])|    3.0|(6,[3],[1.0])|    2.0|(11,[2],[1.0])|          2.0|(7,[2],[1.0])|(32,[0,3,10,18,23...|\n",
            "+---+---+---+-------+---+------+--------+-----+------+-----+-----------+-------+-------------+-------+-------------+-------+--------------+-------------+-------------+--------------------+\n",
            "only showing top 5 rows\n",
            "\n"
          ]
        }
      ]
    },
    {
      "cell_type": "code",
      "metadata": {
        "id": "ga9QgxK47wvZ",
        "outputId": "9afdbaf6-1ca7-4c1c-e061-0307dcce4e62",
        "colab": {
          "base_uri": "https://localhost:8080/"
        }
      },
      "source": [
        "from pyspark.ml.regression import LinearRegression\n",
        "from pyspark.ml.evaluation import RegressionEvaluator\n",
        "\n",
        "# Fit linear regression model to training data\n",
        "regression = LinearRegression(labelCol='duration').fit(flights_train)\n",
        "\n",
        "# Make predictions on testing data\n",
        "predictions = regression.transform(flights_test)\n",
        "\n",
        "# Calculate the RMSE on testing data\n",
        "rmse = RegressionEvaluator(labelCol='duration').evaluate(predictions)\n",
        "print(\"The test RMSE is\", rmse)\n",
        "\n",
        "# Look at the model coefficients\n",
        "coeffs = regression.coefficients\n",
        "print(coeffs)"
      ],
      "execution_count": 20,
      "outputs": [
        {
          "output_type": "stream",
          "name": "stdout",
          "text": [
            "The test RMSE is 10.65822271421853\n",
            "[0.0743159296632904,27.316907151146435,20.165785864406974,52.02884431385865,46.1423307778293,15.250713537940499,17.515747505980052,17.509268065481468,-14.480074190281817,0.9089740370549891,4.115450076909302,7.166886379816731,4.865088086000484,8.921219997499868,9.068935616052908,-0.010659713125822175,-0.04513628422183688,0.025288719087894297,-0.01519417680713943,0.010968558788525394,0.031154692324835045,-3.490900553290917,-3.5746681186287224,-1.2561325585134622,-1.5477059679383756,-3.571434743454155,-1.4822420580823665,-3.575697034823596,0.33142781808962535,-2.925604518251106,-3.3771787377249316,-2.179821970585858]\n"
          ]
        }
      ]
    },
    {
      "cell_type": "markdown",
      "metadata": {
        "id": "SB16lsAU3_-N"
      },
      "source": [
        "### Regularization\n"
      ]
    },
    {
      "cell_type": "code",
      "metadata": {
        "id": "KADzJS0r3710",
        "outputId": "4429cfee-1a08-4f80-ce60-e74e2a6c2ebf",
        "colab": {
          "base_uri": "https://localhost:8080/"
        }
      },
      "source": [
        "# Fit Lasso model (α = 1) to training data\n",
        "regression = LinearRegression(labelCol='duration', regParam=1, elasticNetParam=1).fit(flights_train)\n",
        "\n",
        "# Calculate the RMSE on testing data\n",
        "rmse = RegressionEvaluator(labelCol='duration').evaluate(regression.transform(flights_test))\n",
        "print(\"The test RMSE is\", rmse)\n",
        "\n",
        "# Look at the model coefficients\n",
        "coeffs = regression.coefficients\n",
        "print(coeffs)\n",
        "\n",
        "# Number of zero coefficients\n",
        "zero_coeff = sum([(beta==0) for beta in regression.coefficients])\n",
        "print(\"Number of coefficients equal to 0:\", zero_coeff)"
      ],
      "execution_count": 21,
      "outputs": [
        {
          "output_type": "stream",
          "name": "stdout",
          "text": [
            "The test RMSE is 11.649786077242798\n",
            "[0.07349490083672144,5.581039905249405,0.0,29.26183638961967,22.2670122930811,-2.0846248905641334,0.0,0.0,0.0,0.0,0.0,0.0,0.0,1.0157640108903627,1.2963994479031744,0.0,0.0,0.0,0.0,0.0,0.0,0.0,0.0,0.0,0.0,0.0,0.0,0.0,0.0,0.0,0.0,0.0]\n",
            "Number of coefficients equal to 0: 25\n"
          ]
        }
      ]
    },
    {
      "cell_type": "code",
      "metadata": {
        "id": "zMkkmW9g91YN"
      },
      "source": [
        ""
      ],
      "execution_count": null,
      "outputs": []
    }
  ]
}